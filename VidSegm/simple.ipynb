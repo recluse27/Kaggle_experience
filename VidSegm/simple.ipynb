{
 "cells": [
  {
   "cell_type": "code",
   "execution_count": 1,
   "metadata": {},
   "outputs": [
    {
     "name": "stderr",
     "output_type": "stream",
     "text": [
      "Using TensorFlow backend.\n"
     ]
    }
   ],
   "source": [
    "import os\n",
    "import sys\n",
    "import random\n",
    "import math\n",
    "import numpy as np\n",
    "import pandas as pd\n",
    "import skimage.io\n",
    "import matplotlib\n",
    "import matplotlib.pyplot as plt\n",
    "\n",
    "# Root directory of the project\n",
    "ROOT_DIR = os.path.abspath(\"../\")\n",
    "\n",
    "# Import Mask RCNN\n",
    "sys.path.append(ROOT_DIR)  # To find local version of the library\n",
    "from mrcnn import utils\n",
    "import mrcnn.model as modellib\n",
    "from mrcnn import visualize\n",
    "# Import COCO config\n",
    "sys.path.append(os.path.join(ROOT_DIR, \"samples/coco/\"))  # To find local version\n",
    "import coco\n",
    "\n",
    "%matplotlib inline \n",
    "\n",
    "# Directory to save logs and trained model\n",
    "MODEL_DIR = os.path.join(ROOT_DIR, \"logs\")\n",
    "\n",
    "# Local path to trained weights file\n",
    "COCO_MODEL_PATH = os.path.join(ROOT_DIR, \"mask_rcnn_coco.h5\")\n",
    "# Download COCO trained weights from Releases if needed\n",
    "if not os.path.exists(COCO_MODEL_PATH):\n",
    "    utils.download_trained_weights(COCO_MODEL_PATH)\n",
    "\n",
    "# Directory of images to run detection on\n",
    "IMAGE_DIR = os.path.join(ROOT_DIR, \"images\")\n",
    "PIC_DIR = \"/home/lazukav/Kaggle/VidSegm/\""
   ]
  },
  {
   "cell_type": "code",
   "execution_count": null,
   "metadata": {},
   "outputs": [],
   "source": [
    "class InferenceConfig(coco.CocoConfig):\n",
    "    # Set batch size to 1 since we'll be running inference on\n",
    "    # one image at a time. Batch size = GPU_COUNT * IMAGES_PER_GPU\n",
    "    GPU_COUNT = 1\n",
    "    IMAGES_PER_GPU = 1\n",
    "#     pass\n",
    "\n",
    "config = InferenceConfig()\n",
    "config.display()"
   ]
  },
  {
   "cell_type": "code",
   "execution_count": null,
   "metadata": {},
   "outputs": [],
   "source": [
    "# Create model object in inference mode.\n",
    "model = modellib.MaskRCNN(mode=\"inference\", model_dir=MODEL_DIR, config=config)\n",
    "\n",
    "# Load weights trained on MS-COCO\n",
    "model.load_weights(COCO_MODEL_PATH, by_name=True)"
   ]
  },
  {
   "cell_type": "code",
   "execution_count": null,
   "metadata": {},
   "outputs": [],
   "source": [
    "def getEncodedPixels(image, x_min, y_min, shape):\n",
    "    encoded = \"\"\n",
    "    for y in range(len(image)):\n",
    "        start, end, flag = 0, 0, True\n",
    "        for e in range(len(image[y])):\n",
    "            if image[y][e]:\n",
    "                if flag:\n",
    "                    start, flag = e, False\n",
    "                end = e\n",
    "        if start != 0:\n",
    "            encoded += \"{} {}|\".format(((x_min + y) * shape[1]) + y_min + start, end - start + 1)\n",
    "    return encoded\n",
    "\n",
    "def getPixelCount(image):\n",
    "    return np.unique(image, return_counts = True)[1][1]\n",
    "\n",
    "def select_cvpr_classes(results, class_names):\n",
    "    classes = {'car': 33, 'motorcycle': 34, 'bicycle': 35, 'person': 36, 'truck': 38, 'bus': 39, 'tricycle': 40}\n",
    "    filter_class = lambda x: classes[class_names[x]] if class_names[x] in classes.keys() else 0\n",
    "    results['class_ids'] = list(map(filter_class, results['class_ids']))\n",
    "    return results\n",
    "\n",
    "def getDataFromImage(name, dataFrame):\n",
    "# def getDataFromImage(name):\n",
    "    image = skimage.io.imread(os.path.join(PIC_DIR, name.color))\n",
    "    results = model.detect([image], verbose = 0)[0]\n",
    "    r = select_cvpr_classes(results, class_names)\n",
    "    for i in range(len(r['class_ids'])):\n",
    "        x_min, y_min, x_max, y_max = r['rois'][i]\n",
    "        tmp = r['masks'][x_min:x_max, y_min:y_max, i]\n",
    "        label = r['class_ids'][i]\n",
    "        encodedPixels = getEncodedPixels(tmp, x_min, y_min, r['masks'].shape)\n",
    "        pixelCount = getPixelCount(tmp)\n",
    "        confidence = r['scores'][i]\n",
    "        dataFrame = dataFrame.append({'ImageId': name.id,\n",
    "                   'LabelId': label,\n",
    "                   'Confidence': confidence,\n",
    "                   'PixelCount': pixelCount,\n",
    "                   'EncodedPixels': encodedPixels\n",
    "                  }, ignore_index = True)\n",
    "#         dataFrame = pd.DataFrame({'ImageId': name.id,\n",
    "#                    'LabelId': label,\n",
    "#                    'Confidence': confidence,\n",
    "#                    'PixelCount': pixelCount,\n",
    "#                    'EncodedPixels' :encodedPixels\n",
    "#                   }, ignore_index = True)\n",
    "    return dataFrame\n",
    "\n",
    "testData = pd.read_csv(os.path.join(PIC_DIR, \"test_name.csv\"), sep=\",\")\n",
    "\n",
    "submission = pd.DataFrame(columns = ['ImageId', 'LabelId', 'Confidence', 'PixelCount', 'EncodedPixels'])\n",
    "for e in range(len(testData)):\n",
    "    submission = getDataFromImage(testData.iloc[e], submission)\n",
    "    print (e, end = ' ')"
   ]
  },
  {
   "cell_type": "code",
   "execution_count": null,
   "metadata": {},
   "outputs": [],
   "source": [
    "submission.to_csv('submission.csv', index=None)"
   ]
  },
  {
   "cell_type": "code",
   "execution_count": null,
   "metadata": {},
   "outputs": [],
   "source": []
  },
  {
   "cell_type": "code",
   "execution_count": null,
   "metadata": {},
   "outputs": [],
   "source": []
  },
  {
   "cell_type": "code",
   "execution_count": null,
   "metadata": {},
   "outputs": [],
   "source": []
  },
  {
   "cell_type": "code",
   "execution_count": null,
   "metadata": {},
   "outputs": [],
   "source": []
  },
  {
   "cell_type": "code",
   "execution_count": null,
   "metadata": {},
   "outputs": [],
   "source": []
  },
  {
   "cell_type": "code",
   "execution_count": null,
   "metadata": {},
   "outputs": [],
   "source": []
  },
  {
   "cell_type": "code",
   "execution_count": null,
   "metadata": {},
   "outputs": [],
   "source": []
  },
  {
   "cell_type": "code",
   "execution_count": null,
   "metadata": {},
   "outputs": [],
   "source": []
  }
 ],
 "metadata": {
  "kernelspec": {
   "display_name": "Python 3",
   "language": "python",
   "name": "python3"
  },
  "language_info": {
   "codemirror_mode": {
    "name": "ipython",
    "version": 3
   },
   "file_extension": ".py",
   "mimetype": "text/x-python",
   "name": "python",
   "nbconvert_exporter": "python",
   "pygments_lexer": "ipython3",
   "version": "3.5.2"
  }
 },
 "nbformat": 4,
 "nbformat_minor": 2
}
