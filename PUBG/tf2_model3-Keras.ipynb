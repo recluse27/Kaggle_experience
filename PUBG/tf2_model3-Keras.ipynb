{
 "cells": [
  {
   "cell_type": "code",
   "execution_count": 1,
   "metadata": {},
   "outputs": [],
   "source": [
    "# !pip install tensorflow==2.0.0-alpha0"
   ]
  },
  {
   "cell_type": "code",
   "execution_count": 2,
   "metadata": {
    "_cell_guid": "b1076dfc-b9ad-4769-8c92-a6c4dae69d19",
    "_uuid": "8f2839f25d086af736a60e9eeb907d3b93b6e0e5"
   },
   "outputs": [
    {
     "name": "stdout",
     "output_type": "stream",
     "text": [
      "['tf2_model2-Boosted.ipynb', '.ipynb_checkpoints', 'test.csv', 'train.csv', 'Keras_-_PUBG.ipynb', 'sample_submission.csv', 'tf2_model1.ipynb', 'estimator_submission.csv', 'estimator_api.ipynb', 'PUBG_submit.ipynb', 'Esti_works.ipynb', 'tf2_model3-Keras.ipynb', 'EDA.ipynb', 'Untitled.ipynb']\n"
     ]
    },
    {
     "name": "stderr",
     "output_type": "stream",
     "text": [
      "Using TensorFlow backend.\n"
     ]
    }
   ],
   "source": [
    "import numpy as np # linear algebra\n",
    "import pandas as pd # data processing, CSV file I/O (e.g. pd.read_csv)\n",
    "import tensorflow as tf\n",
    "from sklearn import model_selection, metrics\n",
    "from sklearn.preprocessing import Normalizer\n",
    "import matplotlib.pyplot as plt\n",
    "import seaborn as sns\n",
    "import math\n",
    "import keras\n",
    "from tensorflow.keras.layers import Dense, Dropout\n",
    "from tensorflow.keras import Sequential, Input, Model, losses, optimizers\n",
    "import glob\n",
    "\n",
    "\n",
    "import os\n",
    "print(os.listdir(\".\"))"
   ]
  },
  {
   "cell_type": "code",
   "execution_count": 3,
   "metadata": {
    "_cell_guid": "79c7e3d0-c299-4dcb-8224-4455121ee9b0",
    "_uuid": "d629ff2d2480ee46fbb7e2d37f6b5fab8052498a"
   },
   "outputs": [],
   "source": [
    "def load_data(train_path='train.csv', test_path='test.csv'):\n",
    "    train = pd.DataFrame.from_csv(train_path, index_col=\"Id\")\n",
    "    test = pd.DataFrame.from_csv(test_path, index_col=\"Id\")\n",
    "    \n",
    "    return train, test"
   ]
  },
  {
   "cell_type": "code",
   "execution_count": 4,
   "metadata": {
    "_uuid": "644ba10ce026bee1c64c37756cfaeac3cda4fe99"
   },
   "outputs": [
    {
     "name": "stderr",
     "output_type": "stream",
     "text": [
      "/home/lazukav/.local/lib/python3.5/site-packages/ipykernel_launcher.py:2: FutureWarning: from_csv is deprecated. Please use read_csv(...) instead. Note that some of the default arguments are different, so please refer to the documentation for from_csv when changing your function calls\n",
      "  \n",
      "/home/lazukav/.local/lib/python3.5/site-packages/ipykernel_launcher.py:3: FutureWarning: from_csv is deprecated. Please use read_csv(...) instead. Note that some of the default arguments are different, so please refer to the documentation for from_csv when changing your function calls\n",
      "  This is separate from the ipykernel package so we can avoid doing imports until\n"
     ]
    }
   ],
   "source": [
    "train, test = load_data()"
   ]
  },
  {
   "cell_type": "code",
   "execution_count": 5,
   "metadata": {},
   "outputs": [],
   "source": [
    "def preprocess(data):\n",
    "    data.dropna(axis=0, inplace=True)\n",
    "    if 'winPlacePerc' in data:\n",
    "        data.winPlacePerc = np.where(data.winPlacePerc >= 0.5 , 1, 0)\n",
    "        return data[['assists', 'boosts', 'damageDealt', 'DBNOs', 'headshotKills', 'heals', 'winPlacePerc']]\n",
    "    return data[['assists', 'boosts', 'damageDealt', 'DBNOs', 'headshotKills', 'heals']]"
   ]
  },
  {
   "cell_type": "code",
   "execution_count": 6,
   "metadata": {},
   "outputs": [],
   "source": [
    "train = preprocess(train)\n",
    "test = preprocess(test)"
   ]
  },
  {
   "cell_type": "code",
   "execution_count": 7,
   "metadata": {
    "_uuid": "35878f830a4366394b88a54e400d69b09c12a826"
   },
   "outputs": [],
   "source": [
    "X_train, X_test, y_train, y_test = model_selection.train_test_split(train.drop('winPlacePerc', axis=1), train.winPlacePerc, test_size=0.2, shuffle=None)"
   ]
  },
  {
   "cell_type": "code",
   "execution_count": 8,
   "metadata": {
    "_uuid": "1c02f3c2def96ecbf19f2e5ee219d5cd42ec232a"
   },
   "outputs": [
    {
     "name": "stdout",
     "output_type": "stream",
     "text": [
      "Training Shape:\n",
      "\tFeature:  (3557572, 6)\n",
      "\tTarget:  (3557572,)\n",
      "Validation Shape:\n",
      "\tFeature:  (889393, 6)\n",
      "\tTarget:  (889393,)\n"
     ]
    }
   ],
   "source": [
    "print (\"Training Shape:\")\n",
    "print (\"\\tFeature: \", X_train.shape)\n",
    "print (\"\\tTarget: \", y_train.shape)\n",
    "print (\"Validation Shape:\")\n",
    "print (\"\\tFeature: \", X_test.shape)\n",
    "print (\"\\tTarget: \", y_test.shape)"
   ]
  },
  {
   "cell_type": "code",
   "execution_count": 9,
   "metadata": {
    "_uuid": "fd7f4c7a3da316f0d748ddf7507c567ff1544f4d"
   },
   "outputs": [],
   "source": [
    "model = Sequential([\n",
    "    Dense(128, activation=tf.nn.relu,input_shape=(6, )),\n",
    "    Dense(64, activation=tf.nn.sigmoid),\n",
    "    Dropout(0.5),\n",
    "    Dense(128, activation=tf.nn.relu),\n",
    "    Dense(64, activation=tf.nn.sigmoid),\n",
    "    Dense(1, activation=tf.nn.sigmoid)\n",
    "])"
   ]
  },
  {
   "cell_type": "code",
   "execution_count": 10,
   "metadata": {},
   "outputs": [
    {
     "name": "stdout",
     "output_type": "stream",
     "text": [
      "Model: \"sequential\"\n",
      "_________________________________________________________________\n",
      "Layer (type)                 Output Shape              Param #   \n",
      "=================================================================\n",
      "dense (Dense)                (None, 128)               896       \n",
      "_________________________________________________________________\n",
      "dense_1 (Dense)              (None, 64)                8256      \n",
      "_________________________________________________________________\n",
      "dropout (Dropout)            (None, 64)                0         \n",
      "_________________________________________________________________\n",
      "dense_2 (Dense)              (None, 128)               8320      \n",
      "_________________________________________________________________\n",
      "dense_3 (Dense)              (None, 64)                8256      \n",
      "_________________________________________________________________\n",
      "dense_4 (Dense)              (None, 1)                 65        \n",
      "=================================================================\n",
      "Total params: 25,793\n",
      "Trainable params: 25,793\n",
      "Non-trainable params: 0\n",
      "_________________________________________________________________\n"
     ]
    }
   ],
   "source": [
    "model.summary()"
   ]
  },
  {
   "cell_type": "code",
   "execution_count": 11,
   "metadata": {
    "_uuid": "5a38dcd39caf15297c9b26b18288a64265a6150e"
   },
   "outputs": [],
   "source": [
    "model.compile(\n",
    "    loss = 'binary_crossentropy',\n",
    "    optimizer = optimizers.Adam(\n",
    "        lr = 0.001,\n",
    "        decay = 0.0,\n",
    "    ),\n",
    "    metrics = ['accuracy']\n",
    ")"
   ]
  },
  {
   "cell_type": "code",
   "execution_count": 12,
   "metadata": {
    "_uuid": "d960c627bf928df50208be8ed7269ab543a8ac51"
   },
   "outputs": [
    {
     "name": "stdout",
     "output_type": "stream",
     "text": [
      "Train on 3557572 samples, validate on 889393 samples\n",
      "Epoch 1/5\n",
      "3557572/3557572 [==============================] - 41s 11us/sample - loss: 0.4655 - accuracy: 0.7895 - val_loss: 0.4562 - val_accuracy: 0.7955\n",
      "Epoch 2/5\n",
      "3557572/3557572 [==============================] - 39s 11us/sample - loss: 0.4568 - accuracy: 0.7938 - val_loss: 0.4531 - val_accuracy: 0.7963\n",
      "Epoch 3/5\n",
      "3557572/3557572 [==============================] - 39s 11us/sample - loss: 0.4552 - accuracy: 0.7943 - val_loss: 0.4530 - val_accuracy: 0.7951\n",
      "Epoch 4/5\n",
      "3557572/3557572 [==============================] - 41s 12us/sample - loss: 0.4545 - accuracy: 0.7947 - val_loss: 0.4529 - val_accuracy: 0.7954\n",
      "Epoch 5/5\n",
      "3557572/3557572 [==============================] - 39s 11us/sample - loss: 0.4542 - accuracy: 0.7947 - val_loss: 0.4533 - val_accuracy: 0.7945\n"
     ]
    }
   ],
   "source": [
    "history = model.fit(\n",
    "    x = X_train,\n",
    "    y = y_train,\n",
    "    batch_size = 500,\n",
    "    epochs = 5,\n",
    "    verbose = 1,\n",
    "    validation_data = (X_test, y_test),\n",
    "    callbacks = [tf.keras.callbacks.TensorBoard(log_dir=\"/tmp/model3/\")]\n",
    ")"
   ]
  },
  {
   "cell_type": "code",
   "execution_count": 13,
   "metadata": {
    "_uuid": "fd0f401cbb2a7c359db5ea139b5ec080e8c91a23"
   },
   "outputs": [],
   "source": [
    "prediction = model.predict(test)"
   ]
  },
  {
   "cell_type": "code",
   "execution_count": 14,
   "metadata": {},
   "outputs": [],
   "source": [
    "output = pd.DataFrame(\n",
    "    [(Id, 1) if pred >= 0.5 else (Id, 0)  for Id, pred in zip(test.index, prediction)],\n",
    "    columns = ['Id', 'winPlacePerc']\n",
    ")"
   ]
  },
  {
   "cell_type": "code",
   "execution_count": 15,
   "metadata": {},
   "outputs": [],
   "source": [
    "output.to_csv(\"submission3.csv\", index = False)"
   ]
  },
  {
   "cell_type": "code",
   "execution_count": null,
   "metadata": {},
   "outputs": [],
   "source": []
  }
 ],
 "metadata": {
  "kernelspec": {
   "display_name": "Python 3",
   "language": "python",
   "name": "python3"
  },
  "language_info": {
   "codemirror_mode": {
    "name": "ipython",
    "version": 3
   },
   "file_extension": ".py",
   "mimetype": "text/x-python",
   "name": "python",
   "nbconvert_exporter": "python",
   "pygments_lexer": "ipython3",
   "version": "3.5.2"
  }
 },
 "nbformat": 4,
 "nbformat_minor": 1
}
